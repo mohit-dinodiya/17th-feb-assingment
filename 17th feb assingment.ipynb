{
 "cells": [
  {
   "cell_type": "markdown",
   "id": "215bbfc9-2d1a-4f69-8986-0ad53181359f",
   "metadata": {},
   "source": [
    "# ques1) what is mongo db?explain non-relational database in short.in which scenerios it is preffered to use mongodb over sql database?\n",
    "\n",
    "answer::::::mongodb is open source document_oriented dataase that is designed to store a large scale of data and allows you to work with that data very efficiently.it is ctogarised under the nosql.(not only sql).database because the storage and retrieval of data in the mongodb aare not in the form of tables.\n",
    "\n",
    "A non-relational database is a database that does not use the tabular schema of rows and columns found in the most traditional dbsystem.insted,non-relational database use a storage model that is optimised for the specific requirements of the type of data being stored.\n",
    "\n",
    "to prevent database from becoming a system-wide bottleneck,speciaaly in high volume environments,no sql database perform in a way that relational database cannot.\n",
    "1)storing large volume of data without structure.\n",
    "2)using cloud computing and storage.\n",
    "3)rapid development."
   ]
  },
  {
   "cell_type": "markdown",
   "id": "d806fff1-fc77-45ed-ac47-cabfa9dd4519",
   "metadata": {},
   "source": [
    "# q2) state and explain the feature of mongo db?\n",
    "\n",
    "  ans)   schema-less database--it means one collection can hold different type of documents in it.a single document can                                  hold multiple documents \n",
    "         document oriented-----in mongodb all thed ata stored in documents insted of tables.data is stored in key-value                                  pairs which makes the data much more flexibvle and each documents contain its uique id-                                  object.\n",
    "         indexing--------------every field in the document is indexed with primary and secondary indices with makes                                      easier and takes less time to get or search data from the pool of data.if the data is not                                indexed,then db search each document with the specified query which taakes lots of time                                   and no so efficient.\n",
    "         replication-----------mongodb provides high availabilty and redundacy with the help of replication,it creates                                  multiple copies to diff servers so that if one server fails,than the data is retrived from                                another server.\n",
    "         high performane-------perormance is very high and data persistence as compared to another db to its eatures like                                scability,indexing,replication."
   ]
  },
  {
   "cell_type": "markdown",
   "id": "d7e18e30-c9f4-476b-826a-9dec92092390",
   "metadata": {},
   "source": [
    "# q3) write a code  to connect mongodb to python,also create a database and collection  in  mongo db?\n",
    "\n",
    "anser---\n",
    "        import pymongo\n",
    "        \n",
    "        client=pymongo.Mongoclient(\"mongodb db link\")\n",
    "        \n",
    "        db = client.test\n",
    "        \n",
    "        db = client[\"skills\n",
    "        \n",
    "        coll_create=db[\"myself\"]"
   ]
  },
  {
   "cell_type": "markdown",
   "id": "2fa3b99c-d993-4e03-b105-7a7cd8d49a4f",
   "metadata": {},
   "source": [
    "# q4) using database and the collection created in q3 write a code to insert one record,and insert many records.use the find() and find_one methods to print the inserted record\n",
    "\n",
    "\n",
    "ans---coll_creaate.insert_one(data)\n",
    "      data1 = { \"product name\" : \"bmw\",\n",
    "           \"product number\" : 236473,\n",
    "           \"product color\" : \"black\"\n",
    "        }\n",
    "    coll_creaate.insert_one(data1)\n",
    "    coll_creaate.insert_many(data3)\n",
    "    for i in coll_creaate.find():\n",
    "    print(i)\n",
    "    coll_creaate.find_one()"
   ]
  },
  {
   "cell_type": "markdown",
   "id": "21b1f684-a70f-4035-8c59-6d2c3a7237a7",
   "metadata": {},
   "source": [
    "# q5 explain how you can find() method to query the mongodb database. write a code\n",
    "\n",
    "db.collection.find()"
   ]
  },
  {
   "cell_type": "markdown",
   "id": "37491a9b-783d-488a-b233-fa42246d98ff",
   "metadata": {},
   "source": [
    "# q6---explain the sort() method.give an example to demonstare sorting in mongodb?\n",
    "\n",
    "anss---the 'sort()' method in mongodb is used to sort the documents in a collection based on one or more fields.it takes an object s parameter,where each key represenrs a field to sort by and the value is either 1 or -1\n",
    "\n",
    "{\n",
    "\"title\" : \"the first gatsby\",\n",
    "\"year\"  :  1924\n",
    "}\n",
    "\n",
    "db.books.find()sort({ year: 1})"
   ]
  },
  {
   "cell_type": "markdown",
   "id": "99e30b5c-8ebb-428f-89ca-d968a150a31e",
   "metadata": {},
   "source": [
    "# q7----explain why delete_one(),delete_many(),and drop() is used?\n",
    "\n",
    "answer----delete_one() method is used to remove  single document from a collection that matches the specified filter.\n",
    "        \n",
    "          delete_many() method is used to remove multiple documents from a collection that matches the specified filter.\n",
    "          \n",
    "          drop() method is used to drop entire collection from  mongodb database these method is usefu"
   ]
  }
 ],
 "metadata": {
  "kernelspec": {
   "display_name": "Python 3 (ipykernel)",
   "language": "python",
   "name": "python3"
  },
  "language_info": {
   "codemirror_mode": {
    "name": "ipython",
    "version": 3
   },
   "file_extension": ".py",
   "mimetype": "text/x-python",
   "name": "python",
   "nbconvert_exporter": "python",
   "pygments_lexer": "ipython3",
   "version": "3.10.8"
  }
 },
 "nbformat": 4,
 "nbformat_minor": 5
}
